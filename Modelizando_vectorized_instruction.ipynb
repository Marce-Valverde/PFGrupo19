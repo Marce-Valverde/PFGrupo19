{
  "nbformat": 4,
  "nbformat_minor": 0,
  "metadata": {
    "colab": {
      "provenance": [],
      "authorship_tag": "ABX9TyORmQOPfgh1Tckhnh14ljLY",
      "include_colab_link": true
    },
    "kernelspec": {
      "name": "python3",
      "display_name": "Python 3"
    },
    "language_info": {
      "name": "python"
    }
  },
  "cells": [
    {
      "cell_type": "markdown",
      "metadata": {
        "id": "view-in-github",
        "colab_type": "text"
      },
      "source": [
        "<a href=\"https://colab.research.google.com/github/Marce-Valverde/PFGrupo19/blob/main/Modelizando_vectorized_instruction.ipynb\" target=\"_parent\"><img src=\"https://colab.research.google.com/assets/colab-badge.svg\" alt=\"Open In Colab\"/></a>"
      ]
    },
    {
      "cell_type": "code",
      "execution_count": 1,
      "metadata": {
        "colab": {
          "base_uri": "https://localhost:8080/"
        },
        "id": "cgVzhAbkYMIL",
        "outputId": "ed518602-f8bb-40fa-bf6a-c4321e42232b"
      },
      "outputs": [
        {
          "output_type": "stream",
          "name": "stdout",
          "text": [
            "Mounted at /content/drive\n"
          ]
        }
      ],
      "source": [
        "from google.colab import drive\n",
        "drive.mount('/content/drive')\n",
        "import pandas as pd\n",
        "import gdown"
      ]
    },
    {
      "cell_type": "code",
      "source": [
        "url = 'https://drive.google.com/uc?export=download&id=13XmNe1DGJoLd1DFooQI_aA7PwKLd055f'"
      ],
      "metadata": {
        "id": "H42JsVanYueN"
      },
      "execution_count": 5,
      "outputs": []
    },
    {
      "cell_type": "code",
      "source": [
        "output = 'alertas.csv'\n",
        "gdown.download(url, output, quiet=False)\n",
        "\n",
        "# Leemos el archivo CSV en un DataFrame de pandas\n",
        "df_loaded = pd.read_csv(output)"
      ],
      "metadata": {
        "colab": {
          "base_uri": "https://localhost:8080/"
        },
        "id": "d_8Pjf_NY5TN",
        "outputId": "d2c5cb55-5794-4338-9fbd-222fb3109e0a"
      },
      "execution_count": 6,
      "outputs": [
        {
          "output_type": "stream",
          "name": "stderr",
          "text": [
            "Downloading...\n",
            "From (original): https://drive.google.com/uc?export=download&id=13XmNe1DGJoLd1DFooQI_aA7PwKLd055f\n",
            "From (redirected): https://drive.google.com/uc?export=download&id=13XmNe1DGJoLd1DFooQI_aA7PwKLd055f&confirm=t&uuid=490da595-4906-456f-b015-3cc7e62ee750\n",
            "To: /content/alertas.csv\n",
            "100%|██████████| 3.31G/3.31G [00:46<00:00, 71.2MB/s]\n"
          ]
        }
      ]
    },
    {
      "cell_type": "markdown",
      "source": [
        "Visualizamos el archivo con la columna 'instruction' trabajado en etapas."
      ],
      "metadata": {
        "id": "gDABjAVZdZ0K"
      }
    },
    {
      "cell_type": "code",
      "source": [
        "print(df_loaded.head())"
      ],
      "metadata": {
        "colab": {
          "base_uri": "https://localhost:8080/"
        },
        "id": "QDWBmEbsa8_i",
        "outputId": "c9de1456-d5e3-4782-a2d1-201c80ebae40"
      },
      "execution_count": 7,
      "outputs": [
        {
          "output_type": "stream",
          "name": "stdout",
          "text": [
            "                         id                      event  \\\n",
            "0  5ed3a4b2283336e2e7db3a1c  Special Weather Statement   \n",
            "1  5ed3a07c283336e2e7d2bfa4              Flood Warning   \n",
            "2  5ed39e54283336e2e7d22306             Flood Advisory   \n",
            "3  5ed39e11283336e2e7d15e23                Flood Watch   \n",
            "4  5ed3962c283336e2e7c1d935              Flood Warning   \n",
            "\n",
            "                                         description  \\\n",
            "0  At 630 AM MDT/530 AM PDT/, Doppler radar was t...   \n",
            "1   The National Weather Service in Billings MT h...   \n",
            "2  At 502 AM PDT, Gauge reports continue to indic...   \n",
            "3  The National Weather Service in Spokane has is...   \n",
            "4  The Flood Warning has been cancelled and is no...   \n",
            "\n",
            "                                         instruction   urgency  severity  \\\n",
            "0  frequent cloud to ground lightning is occurrin...  Expected  Moderate   \n",
            "1  safety message a river flood warning means riv...  Expected    Severe   \n",
            "2  a flood advisory means river or stream flows a...  Expected     Minor   \n",
            "3  a flood watch means there is a potential for f...    Future    Severe   \n",
            "4  safety message motorists should not attempt to...      Past     Minor   \n",
            "\n",
            "                                   instruction_token  \\\n",
            "0  ['frequent', 'cloud', 'to', 'ground', 'lightni...   \n",
            "1  ['safety', 'message', 'a', 'river', 'flood', '...   \n",
            "2  ['a', 'flood', 'advisory', 'means', 'river', '...   \n",
            "3  ['a', 'flood', 'watch', 'means', 'there', 'is'...   \n",
            "4  ['safety', 'message', 'motorists', 'should', '...   \n",
            "\n",
            "                            instruction_no_stopwords  \\\n",
            "0  ['frequent', 'cloud', 'ground', 'lightning', '...   \n",
            "1  ['safety', 'message', 'river', 'flood', 'warni...   \n",
            "2  ['flood', 'advisory', 'means', 'river', 'strea...   \n",
            "3  ['flood', 'watch', 'means', 'potential', 'floo...   \n",
            "4  ['safety', 'message', 'motorists', 'attempt', ...   \n",
            "\n",
            "                              instruction_lemmatized  \\\n",
            "0  frequent cloud ground lightning occur storm li...   \n",
            "1  safety message river flood warning mean river ...   \n",
            "2  flood advisory mean river stream flow elevated...   \n",
            "3  flood watch mean potential flooding base curre...   \n",
            "4  safety message motorist attempt drive around b...   \n",
            "\n",
            "                                  instruction_token2  \\\n",
            "0  ['frequent', 'cloud', 'ground', 'lightning', '...   \n",
            "1  ['safety', 'message', 'river', 'flood', 'warni...   \n",
            "2  ['flood', 'advisory', 'mean', 'river', 'stream...   \n",
            "3  ['flood', 'watch', 'mean', 'potential', 'flood...   \n",
            "4  ['safety', 'message', 'motorist', 'attempt', '...   \n",
            "\n",
            "                              vectorized_instruction  \n",
            "0  [-1.2650165557861328, -0.7954631447792053, 0.7...  \n",
            "1  [0.4372621178627014, -1.2084189653396606, 0.24...  \n",
            "2  [1.9844954013824463, -0.32872480154037476, 0.2...  \n",
            "3  [-0.9388578534126282, -0.7667456269264221, 0.5...  \n",
            "4  [-0.3280416429042816, 1.4778294563293457, -0.5...  \n"
          ]
        }
      ]
    },
    {
      "cell_type": "markdown",
      "source": [
        "Levantamos la columna de interés."
      ],
      "metadata": {
        "id": "0MMDnx23duC_"
      }
    },
    {
      "cell_type": "code",
      "source": [
        "df_vectorized_instruction = df_loaded['vectorized_instruction']"
      ],
      "metadata": {
        "id": "c5SgCs2wdHfM"
      },
      "execution_count": 8,
      "outputs": []
    },
    {
      "cell_type": "markdown",
      "source": [
        "Visualizamos las primeras columnas."
      ],
      "metadata": {
        "id": "NFQ7J2Rqd4S7"
      }
    },
    {
      "cell_type": "code",
      "source": [
        "print(df_vectorized_instruction.head())"
      ],
      "metadata": {
        "id": "yVeDH3L1dPeD",
        "outputId": "cdd6af7f-f4a7-4d74-d1d3-56bc762d6d8d",
        "colab": {
          "base_uri": "https://localhost:8080/"
        }
      },
      "execution_count": 9,
      "outputs": [
        {
          "output_type": "stream",
          "name": "stdout",
          "text": [
            "0    [-1.2650165557861328, -0.7954631447792053, 0.7...\n",
            "1    [0.4372621178627014, -1.2084189653396606, 0.24...\n",
            "2    [1.9844954013824463, -0.32872480154037476, 0.2...\n",
            "3    [-0.9388578534126282, -0.7667456269264221, 0.5...\n",
            "4    [-0.3280416429042816, 1.4778294563293457, -0.5...\n",
            "Name: vectorized_instruction, dtype: object\n"
          ]
        }
      ]
    }
  ]
}